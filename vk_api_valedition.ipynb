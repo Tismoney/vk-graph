{
 "cells": [
  {
   "cell_type": "markdown",
   "metadata": {},
   "source": [
    "## Install libs"
   ]
  },
  {
   "cell_type": "code",
   "execution_count": 2,
   "metadata": {},
   "outputs": [
    {
     "name": "stderr",
     "output_type": "stream",
     "text": [
      "/Users/dns/anaconda3/lib/python3.6/site-packages/matplotlib/font_manager.py:279: UserWarning: Matplotlib is building the font cache using fc-list. This may take a moment.\n",
      "  'Matplotlib is building the font cache using fc-list. '\n"
     ]
    }
   ],
   "source": [
    "#import standart package\n",
    "import sys\n",
    "import os\n",
    "import re\n",
    "import pandas as pd\n",
    "import numpy as np\n",
    "import requests\n",
    "\n",
    "from matplotlib import pyplot as plt\n",
    "from matplotlib import style\n",
    "style.use('ggplot')\n",
    "%matplotlib inline\n",
    "\n",
    "import warnings\n",
    "warnings.simplefilter(\"ignore\")"
   ]
  },
  {
   "cell_type": "code",
   "execution_count": 3,
   "metadata": {},
   "outputs": [
    {
     "name": "stdout",
     "output_type": "stream",
     "text": [
      "Requirement already satisfied: vk_api in ./anaconda3/lib/python3.6/site-packages\n",
      "Requirement already satisfied: enum34 in ./anaconda3/lib/python3.6/site-packages (from vk_api)\n",
      "Requirement already satisfied: requests in ./anaconda3/lib/python3.6/site-packages (from vk_api)\n",
      "Requirement already satisfied: chardet<3.1.0,>=3.0.2 in ./anaconda3/lib/python3.6/site-packages (from requests->vk_api)\n",
      "Requirement already satisfied: idna<2.7,>=2.5 in ./anaconda3/lib/python3.6/site-packages (from requests->vk_api)\n",
      "Requirement already satisfied: urllib3<1.23,>=1.21.1 in ./anaconda3/lib/python3.6/site-packages (from requests->vk_api)\n",
      "Requirement already satisfied: certifi>=2017.4.17 in ./anaconda3/lib/python3.6/site-packages (from requests->vk_api)\n"
     ]
    }
   ],
   "source": [
    "#import library in order to work with vk api\n",
    "!{sys.executable} -m pip install vk_api\n",
    "import vk_api"
   ]
  },
  {
   "cell_type": "code",
   "execution_count": 4,
   "metadata": {},
   "outputs": [],
   "source": [
    "#import library in order to work with hedden password\n",
    "import getpass"
   ]
  },
  {
   "cell_type": "code",
   "execution_count": 5,
   "metadata": {},
   "outputs": [
    {
     "name": "stdout",
     "output_type": "stream",
     "text": [
      "Requirement already satisfied: tqdm in ./anaconda3/lib/python3.6/site-packages\r\n"
     ]
    }
   ],
   "source": [
    "#import library in order to work with progress bar\n",
    "!{sys.executable} -m pip install tqdm\n",
    "from tqdm import tqdm_notebook as tqdm"
   ]
  },
  {
   "cell_type": "code",
   "execution_count": 6,
   "metadata": {},
   "outputs": [
    {
     "name": "stdout",
     "output_type": "stream",
     "text": [
      "Requirement already satisfied: markov_clustering in ./.local/lib/python3.6/site-packages\r\n",
      "Requirement already satisfied: scikit-learn in ./anaconda3/lib/python3.6/site-packages (from markov_clustering)\r\n",
      "Requirement already satisfied: scipy in ./anaconda3/lib/python3.6/site-packages (from markov_clustering)\r\n",
      "Requirement already satisfied: numpy in ./anaconda3/lib/python3.6/site-packages (from markov_clustering)\r\n"
     ]
    }
   ],
   "source": [
    "#import library in order to work with graph\n",
    "!{sys.executable} -m pip install markov_clustering\n",
    "import markov_clustering as mc"
   ]
  },
  {
   "cell_type": "code",
   "execution_count": 7,
   "metadata": {
    "scrolled": true
   },
   "outputs": [
    {
     "name": "stdout",
     "output_type": "stream",
     "text": [
      "Requirement already satisfied: beautifulsoup4 in ./anaconda3/lib/python3.6/site-packages\r\n"
     ]
    }
   ],
   "source": [
    "#import library in order to work with web-sraping\n",
    "!{sys.executable} -m pip install beautifulsoup4\n",
    "from bs4 import BeautifulSoup as bs "
   ]
  },
  {
   "cell_type": "code",
   "execution_count": 11,
   "metadata": {},
   "outputs": [
    {
     "name": "stdout",
     "output_type": "stream",
     "text": [
      "Solving environment: done\n",
      "\n",
      "# All requested packages already installed.\n",
      "\n"
     ]
    }
   ],
   "source": [
    "!conda install -c anaconda -y -p {sys.prefix} basemap\n",
    "from mpl_toolkits.basemap import Basemap"
   ]
  },
  {
   "cell_type": "code",
   "execution_count": 12,
   "metadata": {},
   "outputs": [
    {
     "name": "stdout",
     "output_type": "stream",
     "text": [
      "If you want to make html version of your map, say 'yes', else 'no'\n",
      "yes\n",
      "Collecting folium\n",
      "Requirement already satisfied: six in ./anaconda3/lib/python3.6/site-packages (from folium)\n",
      "Requirement already satisfied: jinja2 in ./anaconda3/lib/python3.6/site-packages (from folium)\n",
      "Collecting branca (from folium)\n",
      "  Using cached branca-0.2.0-py3-none-any.whl\n",
      "Requirement already satisfied: requests in ./anaconda3/lib/python3.6/site-packages (from folium)\n",
      "Requirement already satisfied: MarkupSafe>=0.23 in ./anaconda3/lib/python3.6/site-packages (from jinja2->folium)\n",
      "Requirement already satisfied: chardet<3.1.0,>=3.0.2 in ./anaconda3/lib/python3.6/site-packages (from requests->folium)\n",
      "Requirement already satisfied: idna<2.7,>=2.5 in ./anaconda3/lib/python3.6/site-packages (from requests->folium)\n",
      "Requirement already satisfied: urllib3<1.23,>=1.21.1 in ./anaconda3/lib/python3.6/site-packages (from requests->folium)\n",
      "Requirement already satisfied: certifi>=2017.4.17 in ./anaconda3/lib/python3.6/site-packages (from requests->folium)\n",
      "Installing collected packages: branca, folium\n",
      "Successfully installed branca-0.2.0 folium-0.5.0\n"
     ]
    }
   ],
   "source": [
    "print('If you want to make html version of your map, say \\'yes\\', else \\'no\\'')\n",
    "IS_INSTAL = input()\n",
    "#import library in order to work with web-sraping\n",
    "if IS_INSTAL == 'yes':\n",
    "    !{sys.executable} -m pip install folium\n",
    "    import folium\n",
    "else:\n",
    "    print('OK, it is your choice')"
   ]
  },
  {
   "cell_type": "markdown",
   "metadata": {},
   "source": [
    "## Connect to VK api"
   ]
  },
  {
   "cell_type": "code",
   "execution_count": 19,
   "metadata": {},
   "outputs": [
    {
     "name": "stdout",
     "output_type": "stream",
     "text": [
      "Please, enter your vk login:\n",
      "89999827928\n",
      "Enter your password (hidden):········\n"
     ]
    }
   ],
   "source": [
    "print(\"Please, enter your vk login:\")\n",
    "login = input()\n",
    "password = getpass.getpass(\"Enter your password (hidden):\")"
   ]
  },
  {
   "cell_type": "code",
   "execution_count": 20,
   "metadata": {
    "collapsed": true
   },
   "outputs": [],
   "source": [
    "def captcha_handler(captcha):\n",
    "    url = captcha.get_url()\n",
    "    print(url)\n",
    "    webbrowser.open(url, new = 2)\n",
    "    key = input(\"Enter captcha code: \").strip()\n",
    "    return captcha.try_again(key)"
   ]
  },
  {
   "cell_type": "code",
   "execution_count": 21,
   "metadata": {
    "collapsed": true
   },
   "outputs": [],
   "source": [
    "def auth_handler():\n",
    "    key = input(\"Enter authentication code: \")\n",
    "    remember_device = False\n",
    "    return key, remember_device"
   ]
  },
  {
   "cell_type": "code",
   "execution_count": 23,
   "metadata": {},
   "outputs": [
    {
     "name": "stdout",
     "output_type": "stream",
     "text": [
      "Enter authentication code: 616486\n"
     ]
    }
   ],
   "source": [
    "vk = vk_api.VkApi(login, password,\n",
    "                  captcha_handler = captcha_handler, auth_handler=auth_handler)  \n",
    "\n",
    "try:\n",
    "    vk.auth()\n",
    "except vk_api.exceptions.BadPassword:\n",
    "    print(\"Username or password is incorrect! \\nPlese enter login again:\")\n",
    "    login = input()\n",
    "    password = getpass.getpass(\"Enter your password again (hidden):\")\n",
    "    vk = vk_api.VkApi(login, password,\n",
    "                      captcha_handler = captcha_handler, auth_handler=auth_handler)\n",
    "    vk.auth()\n",
    "except vk_api.exceptions.AccessDenied:\n",
    "    raise ValueError(\"No access\")\n",
    "except:\n",
    "    raise ValueError(\"Something wrong! Check everything\")"
   ]
  },
  {
   "cell_type": "code",
   "execution_count": 24,
   "metadata": {},
   "outputs": [
    {
     "data": {
      "text/plain": [
       "[{'bdate': '6.4.1998',\n",
       "  'first_name': 'Valentin',\n",
       "  'id': 146770615,\n",
       "  'last_name': 'Shishkov'}]"
      ]
     },
     "execution_count": 24,
     "metadata": {},
     "output_type": "execute_result"
    }
   ],
   "source": [
    "#user_id = 'nick_1963'\n",
    "user_id = 'val.shishkov'\n",
    "my_info = vk.method('users.get', {'user_ids': user_id, 'fields':'bdate'})\n",
    "\n",
    "user_id = my_info[0]['id']\n",
    "my_info"
   ]
  },
  {
   "cell_type": "markdown",
   "metadata": {},
   "source": [
    "## Collect friends's information"
   ]
  },
  {
   "cell_type": "code",
   "execution_count": 25,
   "metadata": {
    "collapsed": true
   },
   "outputs": [],
   "source": [
    "def make_info(info):\n",
    "    nan = np.nan\n",
    "    size = len(info)\n",
    "    data = {\n",
    "        'user_id' : list(map(lambda i: int(info[i]['id']) if 'id' in info[i] else nan, range(size))), \n",
    "        'sex_id' : list(map(lambda i: int(info[i]['sex']) if 'sex' in info[i] else nan, range(size))),\n",
    "        'first_name' : list(map(lambda i: info[i]['first_name'] if 'first_name' in info[i] else nan, range(size))),\n",
    "        'last_name' : list(map(lambda i: info[i]['last_name'] if 'last_name' in info[i] else nan, range(size))),\n",
    "        'city_id' : list(map(lambda i: int(info[i]['city']['id']) if 'city' in info[i] and 'id' in info[i]['city'] else nan, range(size))),\n",
    "        'city_name' : list(map(lambda i: info[i]['city']['title'] if 'city' in info[i] and 'title' in info[i]['city'] else nan, range(size))),\n",
    "        'home_name' : list(map(lambda i: info[i]['home_town'] if 'home_town' in info[i] else nan, range(size))),\n",
    "        'univer_id' : list(map(lambda i: int(info[i]['universities'][0]['id']) if 'universities' in info[i] and len(info[i]['universities'])>1 else nan, range(size))),\n",
    "        'univer_name' : list(map(lambda i: info[i]['universities'][0]['name'] if 'universities' in info[i] and len(info[i]['universities'])>1 else nan, range(size))),\n",
    "        'school_id' : list(map(lambda i: int(info[i]['schools'][0]['id']) if 'schools' in info[i] and len(info[i]['schools'])>1 else nan, range(size))),\n",
    "        'school_name' : list(map(lambda i: info[i]['schools'][0]['name'] if 'schools' in info[i] and len(info[i]['schools'])>1 else nan, range(size))),\n",
    "        'occupt_id' : list(map(lambda i: int(info[i]['occupation']['id']) if 'occupation' in info[i] and 'id' in info[i]['occupation'] else nan, range(size))),\n",
    "        'occupt_name' : list(map(lambda i: info[i]['occupation']['name'] if 'occupation' in info[i] and 'name' in info[i]['occupation'] else nan, range(size))),\n",
    "        'occupt_type' : list(map(lambda i: info[i]['occupation']['type'] if 'occupation' in info[i] and 'type' in info[i]['occupation'] else nan, range(size))),\n",
    "        'bd_year_id' : list(map(lambda i: int(info[i]['bdate'].split(r'.')[2]) if 'bdate' in info[i] and len(info[i]['bdate'].split(r'.'))>2 else nan, range(size))),\n",
    "        'bd_mont_id' : list(map(lambda i: int(info[i]['bdate'].split(r'.')[1]) if 'bdate' in info[i] else nan, range(size))),\n",
    "        'bd_day_id' : list(map(lambda i: int(info[i]['bdate'].split(r'.')[0]) if 'bdate' in info[i] else nan, range(size)))\n",
    "    }\n",
    "    \n",
    "    df_info = pd.DataFrame(data=data)\n",
    "    return df_info\n",
    "\n",
    "def make_comm(user_id, friends_list):\n",
    "    \n",
    "    if 'comm_{}.csv'.format(user_id) in os.listdir(\"info_user_id\"):\n",
    "        df_comm = pd.read_csv('info_user_id/comm_{}.csv'.format(user_id))\n",
    "        df_comm.set_index('users_id', inplace=True)\n",
    "    else:\n",
    "        df_comm = pd.DataFrame(columns=friends_list)\n",
    "        df_comm['users_id'] = friends_list\n",
    "        df_comm.set_index('users_id', inplace=True)\n",
    "        for idx in tqdm(friends_list):\n",
    "            try: \n",
    "                frx = vk.method('friends.get', {'user_id':idx})['items']\n",
    "                col = np.unique(list(map(lambda fr: fr if fr in friends_list else 0, frx)))\n",
    "                col = np.delete(col, 0)\n",
    "                df_comm.loc[idx][col] = 1\n",
    "            except:\n",
    "                print('User {} was deleted'.format(idx))\n",
    "\n",
    "        df_comm.replace(np.nan, 0, inplace=True)\n",
    "        df_comm.to_csv('info_user_id/comm_{}.csv'.format(user_id))\n",
    "    return df_comm\n",
    "\n",
    "def make_city(user_id, friends_list):\n",
    "    \n",
    "    if 'city_{}.csv'.format(user_id) in os.listdir(\"info_user_id\"):\n",
    "        df_city = pd.read_csv('info_user_id/city_{}.csv'.format(user_id), index_col=0)\n",
    "    else:\n",
    "        print('You have {} friends. How many friends can I choose:'.format(len(friends_list)))\n",
    "        friends_num = int(input())\n",
    "        friends_list = friends_list[:friends_num]\n",
    "        \n",
    "        friends_friends_list = [friends_list]\n",
    "        for friend in tqdm(friends_list):\n",
    "            try: \n",
    "                friends_list_i = vk.method('friends.get', {'user_id': friend})['items']\n",
    "                friends_friends_list.append(friends_list_i)\n",
    "            except:\n",
    "                print('User {} was deleted'.format(friend))\n",
    "        \n",
    "        friends_friends_list = np.unique(np.concatenate(friends_friends_list)).tolist()\n",
    "        max_size = 999\n",
    "        df_city = pd.DataFrame(columns=['city_name'])\n",
    "        for friends_slice in tqdm([friends_friends_list[i*max_size : (i+1)*max_size] \\\n",
    "                                   for i in range(int(len(friends_friends_list)/max_size)+1)]):\n",
    "            \n",
    "            friends_str = str(friends_slice)[1:][:-1]\n",
    "            info = vk.method('users.get', {'user_ids': friends_str,\n",
    "                                            'fields': 'city'})\n",
    "            nan = np.nan\n",
    "            size = len(info)\n",
    "            data = {\n",
    "                'city_name': list(map(lambda i: info[i]['city']['title'] if 'city' in info[i] and 'title' in info[i]['city'] else nan, range(size))),\n",
    "            }\n",
    "\n",
    "            df_city_x = pd.DataFrame(data)\n",
    "            df_city = pd.concat([df_city, df_city_x])\n",
    "            \n",
    "        df_city = df_city['city_name'].value_counts().reset_index()\n",
    "        df_city.columns = ['city_name', 'count']\n",
    "        df_city.to_csv('info_user_id/city_{}.csv'.format(user_id))\n",
    "    return df_city\n",
    "\n",
    "def build_friends(user_id):\n",
    "    try:\n",
    "        friends_list = vk.method('friends.get', {'user_id': user_id})['items']\n",
    "    except:\n",
    "        vk = vk_api.VkApi(login, password,\n",
    "                  captcha_handler = captcha_handler, auth_handler=auth_handler)\n",
    "        vk.auth()\n",
    "        friends_list = vk.method('friends.get', {'user_id': user_id})['items']\n",
    "    \n",
    "    friends_str = str([user_id] + friends_list)[1:][:-1]\n",
    "    info = vk.method('users.get', {'user_ids': friends_str,\n",
    "                                   'fields': 'city, bdate, home_town, occupation, schools, sex, universities'})\n",
    "    \n",
    "    try:\n",
    "        os.stat('info_user_id')\n",
    "    except:\n",
    "        os.mkdir('info_user_id')\n",
    "    print('Just second, collect information of your friends')\n",
    "    df_info = make_info(info)\n",
    "    print('One moment, collect information of friendships')\n",
    "    df_comm = make_comm(user_id, friends_list)\n",
    "    print('Almost end, colletc information of friends\\'s friends\\'s cities')\n",
    "    df_city = make_city(user_id, friends_list)\n",
    "    \n",
    "    return df_info, df_comm, df_city, friends_list"
   ]
  },
  {
   "cell_type": "code",
   "execution_count": 26,
   "metadata": {
    "scrolled": false
   },
   "outputs": [
    {
     "name": "stdout",
     "output_type": "stream",
     "text": [
      "Just second, collect information of your friends\n",
      "One moment, collect information of friendships\n"
     ]
    },
    {
     "ename": "FileNotFoundError",
     "evalue": "[Errno 2] No such file or directory: 'info_user_id'",
     "output_type": "error",
     "traceback": [
      "\u001b[0;31m---------------------------------------------------------------------------\u001b[0m",
      "\u001b[0;31mFileNotFoundError\u001b[0m                         Traceback (most recent call last)",
      "\u001b[0;32m<ipython-input-26-f160de54241a>\u001b[0m in \u001b[0;36m<module>\u001b[0;34m()\u001b[0m\n\u001b[0;32m----> 1\u001b[0;31m \u001b[0mdf_info\u001b[0m\u001b[0;34m,\u001b[0m \u001b[0mdf_comm\u001b[0m\u001b[0;34m,\u001b[0m \u001b[0mdf_city\u001b[0m\u001b[0;34m,\u001b[0m \u001b[0mfriends_list\u001b[0m \u001b[0;34m=\u001b[0m \u001b[0mbuild_friends\u001b[0m\u001b[0;34m(\u001b[0m\u001b[0muser_id\u001b[0m\u001b[0;34m)\u001b[0m\u001b[0;34m\u001b[0m\u001b[0m\n\u001b[0m",
      "\u001b[0;32m<ipython-input-25-a0eea2868ced>\u001b[0m in \u001b[0;36mbuild_friends\u001b[0;34m(user_id)\u001b[0m\n\u001b[1;32m    101\u001b[0m     \u001b[0mdf_info\u001b[0m \u001b[0;34m=\u001b[0m \u001b[0mmake_info\u001b[0m\u001b[0;34m(\u001b[0m\u001b[0minfo\u001b[0m\u001b[0;34m)\u001b[0m\u001b[0;34m\u001b[0m\u001b[0m\n\u001b[1;32m    102\u001b[0m     \u001b[0mprint\u001b[0m\u001b[0;34m(\u001b[0m\u001b[0;34m'One moment, collect information of friendships'\u001b[0m\u001b[0;34m)\u001b[0m\u001b[0;34m\u001b[0m\u001b[0m\n\u001b[0;32m--> 103\u001b[0;31m     \u001b[0mdf_comm\u001b[0m \u001b[0;34m=\u001b[0m \u001b[0mmake_comm\u001b[0m\u001b[0;34m(\u001b[0m\u001b[0muser_id\u001b[0m\u001b[0;34m,\u001b[0m \u001b[0mfriends_list\u001b[0m\u001b[0;34m)\u001b[0m\u001b[0;34m\u001b[0m\u001b[0m\n\u001b[0m\u001b[1;32m    104\u001b[0m     \u001b[0mprint\u001b[0m\u001b[0;34m(\u001b[0m\u001b[0;34m'Almost end, colletc information of friends\\'s friends\\'s cities'\u001b[0m\u001b[0;34m)\u001b[0m\u001b[0;34m\u001b[0m\u001b[0m\n\u001b[1;32m    105\u001b[0m     \u001b[0mdf_city\u001b[0m \u001b[0;34m=\u001b[0m \u001b[0mmake_city\u001b[0m\u001b[0;34m(\u001b[0m\u001b[0muser_id\u001b[0m\u001b[0;34m,\u001b[0m \u001b[0mfriends_list\u001b[0m\u001b[0;34m)\u001b[0m\u001b[0;34m\u001b[0m\u001b[0m\n",
      "\u001b[0;32m<ipython-input-25-a0eea2868ced>\u001b[0m in \u001b[0;36mmake_comm\u001b[0;34m(user_id, friends_list)\u001b[0m\n\u001b[1;32m     27\u001b[0m \u001b[0;32mdef\u001b[0m \u001b[0mmake_comm\u001b[0m\u001b[0;34m(\u001b[0m\u001b[0muser_id\u001b[0m\u001b[0;34m,\u001b[0m \u001b[0mfriends_list\u001b[0m\u001b[0;34m)\u001b[0m\u001b[0;34m:\u001b[0m\u001b[0;34m\u001b[0m\u001b[0m\n\u001b[1;32m     28\u001b[0m \u001b[0;34m\u001b[0m\u001b[0m\n\u001b[0;32m---> 29\u001b[0;31m     \u001b[0;32mif\u001b[0m \u001b[0;34m'comm_{}.csv'\u001b[0m\u001b[0;34m.\u001b[0m\u001b[0mformat\u001b[0m\u001b[0;34m(\u001b[0m\u001b[0muser_id\u001b[0m\u001b[0;34m)\u001b[0m \u001b[0;32min\u001b[0m \u001b[0mos\u001b[0m\u001b[0;34m.\u001b[0m\u001b[0mlistdir\u001b[0m\u001b[0;34m(\u001b[0m\u001b[0;34m\"info_user_id\"\u001b[0m\u001b[0;34m)\u001b[0m\u001b[0;34m:\u001b[0m\u001b[0;34m\u001b[0m\u001b[0m\n\u001b[0m\u001b[1;32m     30\u001b[0m         \u001b[0mdf_comm\u001b[0m \u001b[0;34m=\u001b[0m \u001b[0mpd\u001b[0m\u001b[0;34m.\u001b[0m\u001b[0mread_csv\u001b[0m\u001b[0;34m(\u001b[0m\u001b[0;34m'info_user_id/comm_{}.csv'\u001b[0m\u001b[0;34m.\u001b[0m\u001b[0mformat\u001b[0m\u001b[0;34m(\u001b[0m\u001b[0muser_id\u001b[0m\u001b[0;34m)\u001b[0m\u001b[0;34m)\u001b[0m\u001b[0;34m\u001b[0m\u001b[0m\n\u001b[1;32m     31\u001b[0m         \u001b[0mdf_comm\u001b[0m\u001b[0;34m.\u001b[0m\u001b[0mset_index\u001b[0m\u001b[0;34m(\u001b[0m\u001b[0;34m'users_id'\u001b[0m\u001b[0;34m,\u001b[0m \u001b[0minplace\u001b[0m\u001b[0;34m=\u001b[0m\u001b[0;32mTrue\u001b[0m\u001b[0;34m)\u001b[0m\u001b[0;34m\u001b[0m\u001b[0m\n",
      "\u001b[0;31mFileNotFoundError\u001b[0m: [Errno 2] No such file or directory: 'info_user_id'"
     ]
    }
   ],
   "source": [
    "df_info, df_comm, df_city, friends_list = build_friends(user_id)"
   ]
  },
  {
   "cell_type": "code",
   "execution_count": null,
   "metadata": {
    "collapsed": true
   },
   "outputs": [],
   "source": [
    "df_city.shape"
   ]
  },
  {
   "cell_type": "code",
   "execution_count": null,
   "metadata": {
    "collapsed": true,
    "scrolled": true
   },
   "outputs": [],
   "source": [
    "df_info.head()"
   ]
  },
  {
   "cell_type": "markdown",
   "metadata": {},
   "source": [
    "## Make and clustering graph"
   ]
  },
  {
   "cell_type": "code",
   "execution_count": null,
   "metadata": {
    "collapsed": true
   },
   "outputs": [],
   "source": [
    "adj_matrix = df_comm.as_matrix()\n",
    "adj_matrix.shape"
   ]
  },
  {
   "cell_type": "code",
   "execution_count": null,
   "metadata": {
    "collapsed": true
   },
   "outputs": [],
   "source": [
    "#Delete removed users\n",
    "ind = np.arange(adj_matrix.shape[0])[adj_matrix.sum(axis=0) < 3]\n",
    "adj_matrix = np.delete(adj_matrix, ind, 0)\n",
    "adj_matrix = np.delete(adj_matrix, ind, 1)\n",
    "adj_matrix.shape"
   ]
  },
  {
   "cell_type": "code",
   "execution_count": null,
   "metadata": {
    "collapsed": true
   },
   "outputs": [],
   "source": [
    "result = mc.run_mcl(adj_matrix)\n",
    "clusters = mc.get_clusters(result)\n",
    "\n",
    "fig = plt.figure(figsize=(9, 9))\n",
    "mc.draw_graph(adj_matrix, clusters, node_size=50, with_labels=False, edge_color=\"silver\")\n",
    "fig.savefig('info_user_id/graph_{}.png'.format(user_id), dpi=300)"
   ]
  },
  {
   "cell_type": "code",
   "execution_count": null,
   "metadata": {
    "collapsed": true
   },
   "outputs": [],
   "source": [
    "df_info.set_index('user_id').loc[df_comm.reset_index().loc[np.array(clusters[0])]['users_id'].as_matrix()].head()"
   ]
  },
  {
   "cell_type": "markdown",
   "metadata": {},
   "source": [
    "## Make map of your frends"
   ]
  },
  {
   "cell_type": "code",
   "execution_count": null,
   "metadata": {
    "collapsed": true
   },
   "outputs": [],
   "source": [
    "def make_cord_city(df):\n",
    "\n",
    "    df.set_index('city_name', inplace=True)\n",
    "    df['lat'] = np.nan\n",
    "    df['lon'] = np.nan\n",
    "    for city in tqdm(df.index):\n",
    "        ADD_CORD = False\n",
    "        #Check Russian wikipedia\n",
    "        if ADD_CORD == False:\n",
    "            WIKI_URL = 'https://ru.wikipedia.org/wiki/' + str(city)\n",
    "            req = requests.get(WIKI_URL)\n",
    "            soup = bs(req.content, 'lxml')\n",
    "            w = soup.find_all(\"script\")[1]\n",
    "            for split_text in re.split(r'[{}]', w.text):\n",
    "                if 'lat' in split_text and 'lon' in split_text:\n",
    "                    cord = re.split(r'[,:]', split_text)\n",
    "\n",
    "                    try:\n",
    "                        df['lat'][city] = float(cord[1])\n",
    "                        df['lon'][city] = float(cord[3])\n",
    "                        ADD_CORD = True\n",
    "                    except:\n",
    "                        None\n",
    "\n",
    "                    \n",
    "        if ADD_CORD == False:\n",
    "            WIKI_URL = 'https://en.wikipedia.org/wiki/' + str(city)\n",
    "            req = requests.get(WIKI_URL)\n",
    "            soup = bs(req.content, 'lxml')\n",
    "            w = soup.find_all(\"script\")[1]\n",
    "            for split_text in re.split(r'[{}]', w.text):\n",
    "                if 'lat' in split_text and 'lon' in split_text:\n",
    "                    cord = re.split(r'[,:]', split_text)\n",
    "    \n",
    "                    try:\n",
    "                        df['lat'][city] = float(cord[1])\n",
    "                        df['lon'][city] = float(cord[3])\n",
    "                        ADD_CORD = True\n",
    "                    except:\n",
    "                        None\n",
    "    \n",
    "    df.reset_index(inplace=True)\n",
    "    return df"
   ]
  },
  {
   "cell_type": "code",
   "execution_count": null,
   "metadata": {
    "collapsed": true
   },
   "outputs": [],
   "source": [
    "df_city = make_cord_city(df_city)"
   ]
  },
  {
   "cell_type": "code",
   "execution_count": null,
   "metadata": {
    "collapsed": true,
    "scrolled": false
   },
   "outputs": [],
   "source": [
    "# Set the dimension of the figure\n",
    "my_dpi=300\n",
    "plt.figure(figsize=(2600/my_dpi, 1800/my_dpi), dpi=my_dpi)\n",
    " \n",
    "\n",
    "m=Basemap(llcrnrlon=-180, llcrnrlat=-65,urcrnrlon=180,urcrnrlat=80)\n",
    "m.drawmapboundary(fill_color='#BBD7E8', linewidth=0)\n",
    "m.fillcontinents(color='grey', alpha=0.5)\n",
    "m.drawcoastlines(linewidth=0.1, color=\"white\")\n",
    " \n",
    "# prepare a color for each point depending on the continent.\n",
    " \n",
    "# Add a point per position\n",
    "m.scatter(df_city['lon'], df_city['lat'],\n",
    "          s= 2*np.sqrt(df_city['count']),\n",
    "          c='r', alpha=0.4, cmap=\"Set1\")\n",
    " \n",
    "# copyright and source data info\n",
    "\n",
    "plt.text( -170, -58, 'City of friends\\'s frineds of user_{}'.format(user_id),\n",
    "         ha='left', va='bottom', size=5, color='#555555' )\n",
    " \n",
    "# Save as png\n",
    "plt.savefig('info_user_id/map_{}.png'.format(user_id), dpi = my_dpi, bbox_inches='tight')\n",
    "plt.show()"
   ]
  },
  {
   "cell_type": "code",
   "execution_count": null,
   "metadata": {
    "collapsed": true
   },
   "outputs": [],
   "source": [
    "try:\n",
    "    # Make an empty map\n",
    "    m = folium.Map(location=[20,0], tiles=\"Mapbox Bright\", zoom_start=2)\n",
    "\n",
    "    data = df_city.dropna()\n",
    "    # I can add marker one by one on the map\n",
    "    for i in range(0,len(data)):\n",
    "        folium.Circle(\n",
    "            location=[data.iloc[i]['lat'], data.iloc[i]['lon']],\n",
    "            popup=data.iloc[i]['city_name'],\n",
    "            radius=np.sqrt(data.iloc[i]['count'])*1000.0,\n",
    "            color='crimson',\n",
    "            fill=True,\n",
    "            fill_color='crimson').add_to(m)\n",
    "\n",
    "    # Save it as html\n",
    "    m.save('info_user_id/map_{}.html'.format(user_id))\n",
    "    print('Open the file')\n",
    "except:\n",
    "    None"
   ]
  },
  {
   "cell_type": "code",
   "execution_count": null,
   "metadata": {
    "collapsed": true
   },
   "outputs": [],
   "source": []
  }
 ],
 "metadata": {
  "kernelspec": {
   "display_name": "Python 3",
   "language": "python",
   "name": "python3"
  },
  "language_info": {
   "codemirror_mode": {
    "name": "ipython",
    "version": 3
   },
   "file_extension": ".py",
   "mimetype": "text/x-python",
   "name": "python",
   "nbconvert_exporter": "python",
   "pygments_lexer": "ipython3",
   "version": "3.5.2"
  }
 },
 "nbformat": 4,
 "nbformat_minor": 2
}
